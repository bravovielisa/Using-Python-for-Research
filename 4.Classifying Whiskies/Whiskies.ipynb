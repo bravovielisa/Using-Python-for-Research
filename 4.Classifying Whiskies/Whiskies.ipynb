{
 "cells": [
  {
   "cell_type": "markdown",
   "metadata": {},
   "source": [
    "## Series y Data Frame"
   ]
  },
  {
   "cell_type": "markdown",
   "metadata": {},
   "source": [
    "Pandas tiene dos estructuras de datos Series y Data Frame.  \n",
    "Series es un objeto tipo array unidimensional, y Data Frame es un objeto tipo array bidimensional.  \n",
    "Ambos objetos también contienen información adicional sobre los datos llamada metadatos:"
   ]
  },
  {
   "cell_type": "code",
   "execution_count": 15,
   "metadata": {},
   "outputs": [
    {
     "data": {
      "text/plain": [
       "0    6\n",
       "1    3\n",
       "2    8\n",
       "3    6\n",
       "dtype: int64"
      ]
     },
     "execution_count": 15,
     "metadata": {},
     "output_type": "execute_result"
    }
   ],
   "source": [
    "import pandas as pd\n",
    "x = pd.Series([6,3,8,6])\n",
    "x"
   ]
  },
  {
   "cell_type": "markdown",
   "metadata": {},
   "source": [
    "Por defecto aparece el índice. Para cambiarlos se puede utilizar index:"
   ]
  },
  {
   "cell_type": "code",
   "execution_count": 16,
   "metadata": {},
   "outputs": [
    {
     "data": {
      "text/plain": [
       "q    6\n",
       "w    3\n",
       "e    8\n",
       "r    6\n",
       "dtype: int64"
      ]
     },
     "execution_count": 16,
     "metadata": {},
     "output_type": "execute_result"
    }
   ],
   "source": [
    "x = pd.Series([6,3,8,6], index=['q','w','e','r'])\n",
    "x"
   ]
  },
  {
   "cell_type": "code",
   "execution_count": 17,
   "metadata": {},
   "outputs": [
    {
     "data": {
      "text/plain": [
       "3"
      ]
     },
     "execution_count": 17,
     "metadata": {},
     "output_type": "execute_result"
    }
   ],
   "source": [
    "x['w']"
   ]
  },
  {
   "cell_type": "markdown",
   "metadata": {},
   "source": [
    "Es habitual convertir un diccionario en una serie:"
   ]
  },
  {
   "cell_type": "code",
   "execution_count": 18,
   "metadata": {},
   "outputs": [
    {
     "data": {
      "text/plain": [
       "Tim    29\n",
       "Jim    31\n",
       "Pam    27\n",
       "Sam    35\n",
       "dtype: int64"
      ]
     },
     "execution_count": 18,
     "metadata": {},
     "output_type": "execute_result"
    }
   ],
   "source": [
    "age = {'Tim':29, 'Jim':31, 'Pam':27, 'Sam':35}\n",
    "x = pd.Series(age)\n",
    "x"
   ]
  },
  {
   "cell_type": "code",
   "execution_count": 19,
   "metadata": {},
   "outputs": [],
   "source": [
    "data ={'name': ['Tim', 'Jim', 'Pam','Sam'],\n",
    "\t\t'age' : [  29 ,  31  ,  27  ,  35 ],\n",
    "\t\t'ZIP' : ['02115','02130','67700','00100']\n",
    "\t\t}"
   ]
  },
  {
   "cell_type": "markdown",
   "metadata": {},
   "source": [
    "Creamos un dataframe con indices personalizados:"
   ]
  },
  {
   "cell_type": "code",
   "execution_count": 20,
   "metadata": {},
   "outputs": [
    {
     "data": {
      "text/html": [
       "<div>\n",
       "<style scoped>\n",
       "    .dataframe tbody tr th:only-of-type {\n",
       "        vertical-align: middle;\n",
       "    }\n",
       "\n",
       "    .dataframe tbody tr th {\n",
       "        vertical-align: top;\n",
       "    }\n",
       "\n",
       "    .dataframe thead th {\n",
       "        text-align: right;\n",
       "    }\n",
       "</style>\n",
       "<table border=\"1\" class=\"dataframe\">\n",
       "  <thead>\n",
       "    <tr style=\"text-align: right;\">\n",
       "      <th></th>\n",
       "      <th>name</th>\n",
       "      <th>age</th>\n",
       "      <th>ZIP</th>\n",
       "    </tr>\n",
       "  </thead>\n",
       "  <tbody>\n",
       "    <tr>\n",
       "      <th>q</th>\n",
       "      <td>Tim</td>\n",
       "      <td>29</td>\n",
       "      <td>02115</td>\n",
       "    </tr>\n",
       "    <tr>\n",
       "      <th>w</th>\n",
       "      <td>Jim</td>\n",
       "      <td>31</td>\n",
       "      <td>02130</td>\n",
       "    </tr>\n",
       "    <tr>\n",
       "      <th>e</th>\n",
       "      <td>Pam</td>\n",
       "      <td>27</td>\n",
       "      <td>67700</td>\n",
       "    </tr>\n",
       "    <tr>\n",
       "      <th>r</th>\n",
       "      <td>Sam</td>\n",
       "      <td>35</td>\n",
       "      <td>00100</td>\n",
       "    </tr>\n",
       "  </tbody>\n",
       "</table>\n",
       "</div>"
      ],
      "text/plain": [
       "  name  age    ZIP\n",
       "q  Tim   29  02115\n",
       "w  Jim   31  02130\n",
       "e  Pam   27  67700\n",
       "r  Sam   35  00100"
      ]
     },
     "execution_count": 20,
     "metadata": {},
     "output_type": "execute_result"
    }
   ],
   "source": [
    "x = pd.DataFrame(data, columns = ['name', 'age', 'ZIP'], index=list(\"qwer\"))\n",
    "x"
   ]
  },
  {
   "cell_type": "markdown",
   "metadata": {},
   "source": [
    "Reordenar los índices de un objeto pandas Series según su argumento:"
   ]
  },
  {
   "cell_type": "code",
   "execution_count": 21,
   "metadata": {},
   "outputs": [
    {
     "data": {
      "text/html": [
       "<div>\n",
       "<style scoped>\n",
       "    .dataframe tbody tr th:only-of-type {\n",
       "        vertical-align: middle;\n",
       "    }\n",
       "\n",
       "    .dataframe tbody tr th {\n",
       "        vertical-align: top;\n",
       "    }\n",
       "\n",
       "    .dataframe thead th {\n",
       "        text-align: right;\n",
       "    }\n",
       "</style>\n",
       "<table border=\"1\" class=\"dataframe\">\n",
       "  <thead>\n",
       "    <tr style=\"text-align: right;\">\n",
       "      <th></th>\n",
       "      <th>name</th>\n",
       "      <th>age</th>\n",
       "      <th>ZIP</th>\n",
       "    </tr>\n",
       "  </thead>\n",
       "  <tbody>\n",
       "    <tr>\n",
       "      <th>e</th>\n",
       "      <td>Pam</td>\n",
       "      <td>27</td>\n",
       "      <td>67700</td>\n",
       "    </tr>\n",
       "    <tr>\n",
       "      <th>q</th>\n",
       "      <td>Tim</td>\n",
       "      <td>29</td>\n",
       "      <td>02115</td>\n",
       "    </tr>\n",
       "    <tr>\n",
       "      <th>r</th>\n",
       "      <td>Sam</td>\n",
       "      <td>35</td>\n",
       "      <td>00100</td>\n",
       "    </tr>\n",
       "    <tr>\n",
       "      <th>w</th>\n",
       "      <td>Jim</td>\n",
       "      <td>31</td>\n",
       "      <td>02130</td>\n",
       "    </tr>\n",
       "  </tbody>\n",
       "</table>\n",
       "</div>"
      ],
      "text/plain": [
       "  name  age    ZIP\n",
       "e  Pam   27  67700\n",
       "q  Tim   29  02115\n",
       "r  Sam   35  00100\n",
       "w  Jim   31  02130"
      ]
     },
     "execution_count": 21,
     "metadata": {},
     "output_type": "execute_result"
    }
   ],
   "source": [
    "x.reindex(sorted(x.index))"
   ]
  },
  {
   "cell_type": "markdown",
   "metadata": {},
   "source": [
    "Si quisiera cambiar por otra lista de indices:"
   ]
  },
  {
   "cell_type": "code",
   "execution_count": 22,
   "metadata": {},
   "outputs": [],
   "source": [
    "x.index = list(\"abcd\")"
   ]
  },
  {
   "cell_type": "code",
   "execution_count": 23,
   "metadata": {},
   "outputs": [
    {
     "data": {
      "text/html": [
       "<div>\n",
       "<style scoped>\n",
       "    .dataframe tbody tr th:only-of-type {\n",
       "        vertical-align: middle;\n",
       "    }\n",
       "\n",
       "    .dataframe tbody tr th {\n",
       "        vertical-align: top;\n",
       "    }\n",
       "\n",
       "    .dataframe thead th {\n",
       "        text-align: right;\n",
       "    }\n",
       "</style>\n",
       "<table border=\"1\" class=\"dataframe\">\n",
       "  <thead>\n",
       "    <tr style=\"text-align: right;\">\n",
       "      <th></th>\n",
       "      <th>name</th>\n",
       "      <th>age</th>\n",
       "      <th>ZIP</th>\n",
       "    </tr>\n",
       "  </thead>\n",
       "  <tbody>\n",
       "    <tr>\n",
       "      <th>a</th>\n",
       "      <td>Tim</td>\n",
       "      <td>29</td>\n",
       "      <td>02115</td>\n",
       "    </tr>\n",
       "    <tr>\n",
       "      <th>b</th>\n",
       "      <td>Jim</td>\n",
       "      <td>31</td>\n",
       "      <td>02130</td>\n",
       "    </tr>\n",
       "    <tr>\n",
       "      <th>c</th>\n",
       "      <td>Pam</td>\n",
       "      <td>27</td>\n",
       "      <td>67700</td>\n",
       "    </tr>\n",
       "    <tr>\n",
       "      <th>d</th>\n",
       "      <td>Sam</td>\n",
       "      <td>35</td>\n",
       "      <td>00100</td>\n",
       "    </tr>\n",
       "  </tbody>\n",
       "</table>\n",
       "</div>"
      ],
      "text/plain": [
       "  name  age    ZIP\n",
       "a  Tim   29  02115\n",
       "b  Jim   31  02130\n",
       "c  Pam   27  67700\n",
       "d  Sam   35  00100"
      ]
     },
     "execution_count": 23,
     "metadata": {},
     "output_type": "execute_result"
    }
   ],
   "source": [
    "x"
   ]
  },
  {
   "cell_type": "markdown",
   "metadata": {},
   "source": [
    "operar con diferentes indices, pandas pone NaN en aquellos indices que no coinciden:"
   ]
  },
  {
   "cell_type": "code",
   "execution_count": 24,
   "metadata": {},
   "outputs": [
    {
     "data": {
      "text/plain": [
       "e    15.0\n",
       "q     9.0\n",
       "r    11.0\n",
       "t     NaN\n",
       "w     NaN\n",
       "dtype: float64"
      ]
     },
     "execution_count": 24,
     "metadata": {},
     "output_type": "execute_result"
    }
   ],
   "source": [
    "x = pd.Series([6,3,8,6], index=['q','w','e','r'])\n",
    "y = pd.Series([7,3,5,2], index=['e', 'q', 'r', 't'])\n",
    "x+y"
   ]
  },
  {
   "cell_type": "markdown",
   "metadata": {},
   "source": [
    "## Loading and Inspecting Data"
   ]
  },
  {
   "cell_type": "code",
   "execution_count": 25,
   "metadata": {},
   "outputs": [
    {
     "data": {
      "text/html": [
       "<div>\n",
       "<style scoped>\n",
       "    .dataframe tbody tr th:only-of-type {\n",
       "        vertical-align: middle;\n",
       "    }\n",
       "\n",
       "    .dataframe tbody tr th {\n",
       "        vertical-align: top;\n",
       "    }\n",
       "\n",
       "    .dataframe thead th {\n",
       "        text-align: right;\n",
       "    }\n",
       "</style>\n",
       "<table border=\"1\" class=\"dataframe\">\n",
       "  <thead>\n",
       "    <tr style=\"text-align: right;\">\n",
       "      <th></th>\n",
       "      <th>RowID</th>\n",
       "      <th>Distillery</th>\n",
       "      <th>Body</th>\n",
       "      <th>Sweetness</th>\n",
       "      <th>Smoky</th>\n",
       "      <th>Medicinal</th>\n",
       "      <th>Tobacco</th>\n",
       "      <th>Honey</th>\n",
       "      <th>Spicy</th>\n",
       "      <th>Winey</th>\n",
       "      <th>Nutty</th>\n",
       "      <th>Malty</th>\n",
       "      <th>Fruity</th>\n",
       "      <th>Floral</th>\n",
       "      <th>Postcode</th>\n",
       "      <th>Latitude</th>\n",
       "      <th>Longitude</th>\n",
       "      <th>Region</th>\n",
       "    </tr>\n",
       "  </thead>\n",
       "  <tbody>\n",
       "    <tr>\n",
       "      <th>0</th>\n",
       "      <td>1</td>\n",
       "      <td>Aberfeldy</td>\n",
       "      <td>2</td>\n",
       "      <td>2</td>\n",
       "      <td>2</td>\n",
       "      <td>0</td>\n",
       "      <td>0</td>\n",
       "      <td>2</td>\n",
       "      <td>1</td>\n",
       "      <td>2</td>\n",
       "      <td>2</td>\n",
       "      <td>2</td>\n",
       "      <td>2</td>\n",
       "      <td>2</td>\n",
       "      <td>\\tPH15 2EB</td>\n",
       "      <td>286580</td>\n",
       "      <td>749680</td>\n",
       "      <td>Highlands</td>\n",
       "    </tr>\n",
       "    <tr>\n",
       "      <th>1</th>\n",
       "      <td>2</td>\n",
       "      <td>Aberlour</td>\n",
       "      <td>3</td>\n",
       "      <td>3</td>\n",
       "      <td>1</td>\n",
       "      <td>0</td>\n",
       "      <td>0</td>\n",
       "      <td>4</td>\n",
       "      <td>3</td>\n",
       "      <td>2</td>\n",
       "      <td>2</td>\n",
       "      <td>3</td>\n",
       "      <td>3</td>\n",
       "      <td>2</td>\n",
       "      <td>\\tAB38 9PJ</td>\n",
       "      <td>326340</td>\n",
       "      <td>842570</td>\n",
       "      <td>Speyside</td>\n",
       "    </tr>\n",
       "    <tr>\n",
       "      <th>2</th>\n",
       "      <td>3</td>\n",
       "      <td>AnCnoc</td>\n",
       "      <td>1</td>\n",
       "      <td>3</td>\n",
       "      <td>2</td>\n",
       "      <td>0</td>\n",
       "      <td>0</td>\n",
       "      <td>2</td>\n",
       "      <td>0</td>\n",
       "      <td>0</td>\n",
       "      <td>2</td>\n",
       "      <td>2</td>\n",
       "      <td>3</td>\n",
       "      <td>2</td>\n",
       "      <td>\\tAB5 5LI</td>\n",
       "      <td>352960</td>\n",
       "      <td>839320</td>\n",
       "      <td>Highlands</td>\n",
       "    </tr>\n",
       "    <tr>\n",
       "      <th>3</th>\n",
       "      <td>4</td>\n",
       "      <td>Ardbeg</td>\n",
       "      <td>4</td>\n",
       "      <td>1</td>\n",
       "      <td>4</td>\n",
       "      <td>4</td>\n",
       "      <td>0</td>\n",
       "      <td>0</td>\n",
       "      <td>2</td>\n",
       "      <td>0</td>\n",
       "      <td>1</td>\n",
       "      <td>2</td>\n",
       "      <td>1</td>\n",
       "      <td>0</td>\n",
       "      <td>\\tPA42 7EB</td>\n",
       "      <td>141560</td>\n",
       "      <td>646220</td>\n",
       "      <td>Islay</td>\n",
       "    </tr>\n",
       "    <tr>\n",
       "      <th>4</th>\n",
       "      <td>5</td>\n",
       "      <td>Ardmore</td>\n",
       "      <td>2</td>\n",
       "      <td>2</td>\n",
       "      <td>2</td>\n",
       "      <td>0</td>\n",
       "      <td>0</td>\n",
       "      <td>1</td>\n",
       "      <td>1</td>\n",
       "      <td>1</td>\n",
       "      <td>2</td>\n",
       "      <td>3</td>\n",
       "      <td>1</td>\n",
       "      <td>1</td>\n",
       "      <td>\\tAB54 4NH</td>\n",
       "      <td>355350</td>\n",
       "      <td>829140</td>\n",
       "      <td>Highlands</td>\n",
       "    </tr>\n",
       "  </tbody>\n",
       "</table>\n",
       "</div>"
      ],
      "text/plain": [
       "   RowID Distillery  Body  Sweetness  Smoky  Medicinal  Tobacco  Honey  Spicy  \\\n",
       "0      1  Aberfeldy     2          2      2          0        0      2      1   \n",
       "1      2   Aberlour     3          3      1          0        0      4      3   \n",
       "2      3     AnCnoc     1          3      2          0        0      2      0   \n",
       "3      4     Ardbeg     4          1      4          4        0      0      2   \n",
       "4      5    Ardmore     2          2      2          0        0      1      1   \n",
       "\n",
       "   Winey  Nutty  Malty  Fruity  Floral     Postcode   Latitude   Longitude  \\\n",
       "0      2      2      2       2       2   \\tPH15 2EB     286580      749680   \n",
       "1      2      2      3       3       2   \\tAB38 9PJ     326340      842570   \n",
       "2      0      2      2       3       2    \\tAB5 5LI     352960      839320   \n",
       "3      0      1      2       1       0   \\tPA42 7EB     141560      646220   \n",
       "4      1      2      3       1       1   \\tAB54 4NH     355350      829140   \n",
       "\n",
       "      Region  \n",
       "0  Highlands  \n",
       "1   Speyside  \n",
       "2  Highlands  \n",
       "3      Islay  \n",
       "4  Highlands  "
      ]
     },
     "execution_count": 25,
     "metadata": {},
     "output_type": "execute_result"
    }
   ],
   "source": [
    "import numpy as np \n",
    "import pandas as pd\n",
    "whisky = pd.read_csv('whiskies.txt')\n",
    "whisky['Region'] = pd.read_csv('regions.txt') #Añadimos una columna Region\n",
    "whisky.head()"
   ]
  },
  {
   "cell_type": "code",
   "execution_count": 26,
   "metadata": {},
   "outputs": [
    {
     "data": {
      "text/html": [
       "<div>\n",
       "<style scoped>\n",
       "    .dataframe tbody tr th:only-of-type {\n",
       "        vertical-align: middle;\n",
       "    }\n",
       "\n",
       "    .dataframe tbody tr th {\n",
       "        vertical-align: top;\n",
       "    }\n",
       "\n",
       "    .dataframe thead th {\n",
       "        text-align: right;\n",
       "    }\n",
       "</style>\n",
       "<table border=\"1\" class=\"dataframe\">\n",
       "  <thead>\n",
       "    <tr style=\"text-align: right;\">\n",
       "      <th></th>\n",
       "      <th>RowID</th>\n",
       "      <th>Distillery</th>\n",
       "      <th>Body</th>\n",
       "      <th>Sweetness</th>\n",
       "      <th>Smoky</th>\n",
       "    </tr>\n",
       "  </thead>\n",
       "  <tbody>\n",
       "    <tr>\n",
       "      <th>5</th>\n",
       "      <td>6</td>\n",
       "      <td>ArranIsleOf</td>\n",
       "      <td>2</td>\n",
       "      <td>3</td>\n",
       "      <td>1</td>\n",
       "    </tr>\n",
       "    <tr>\n",
       "      <th>6</th>\n",
       "      <td>7</td>\n",
       "      <td>Auchentoshan</td>\n",
       "      <td>0</td>\n",
       "      <td>2</td>\n",
       "      <td>0</td>\n",
       "    </tr>\n",
       "    <tr>\n",
       "      <th>7</th>\n",
       "      <td>8</td>\n",
       "      <td>Auchroisk</td>\n",
       "      <td>2</td>\n",
       "      <td>3</td>\n",
       "      <td>1</td>\n",
       "    </tr>\n",
       "    <tr>\n",
       "      <th>8</th>\n",
       "      <td>9</td>\n",
       "      <td>Aultmore</td>\n",
       "      <td>2</td>\n",
       "      <td>2</td>\n",
       "      <td>1</td>\n",
       "    </tr>\n",
       "    <tr>\n",
       "      <th>9</th>\n",
       "      <td>10</td>\n",
       "      <td>Balblair</td>\n",
       "      <td>2</td>\n",
       "      <td>3</td>\n",
       "      <td>2</td>\n",
       "    </tr>\n",
       "  </tbody>\n",
       "</table>\n",
       "</div>"
      ],
      "text/plain": [
       "   RowID    Distillery  Body  Sweetness  Smoky\n",
       "5      6   ArranIsleOf     2          3      1\n",
       "6      7  Auchentoshan     0          2      0\n",
       "7      8     Auchroisk     2          3      1\n",
       "8      9      Aultmore     2          2      1\n",
       "9     10      Balblair     2          3      2"
      ]
     },
     "execution_count": 26,
     "metadata": {},
     "output_type": "execute_result"
    }
   ],
   "source": [
    "# df.iloc: seleccionamos filas y columnas a partir del indice\n",
    "whisky.iloc[5:10, 0:5]"
   ]
  },
  {
   "cell_type": "code",
   "execution_count": 27,
   "metadata": {},
   "outputs": [],
   "source": [
    "flavors = whisky.iloc[:, 2:14]"
   ]
  },
  {
   "cell_type": "markdown",
   "metadata": {},
   "source": [
    "## Correlations"
   ]
  },
  {
   "cell_type": "markdown",
   "metadata": {},
   "source": [
    "Hay muchos tipos diferentes de correlaciones, y por defecto, la función utiliza lo que se correlación de Pearson, que estima correlaciones lineales en los datos."
   ]
  },
  {
   "cell_type": "code",
   "execution_count": 28,
   "metadata": {},
   "outputs": [
    {
     "data": {
      "text/html": [
       "<div>\n",
       "<style scoped>\n",
       "    .dataframe tbody tr th:only-of-type {\n",
       "        vertical-align: middle;\n",
       "    }\n",
       "\n",
       "    .dataframe tbody tr th {\n",
       "        vertical-align: top;\n",
       "    }\n",
       "\n",
       "    .dataframe thead th {\n",
       "        text-align: right;\n",
       "    }\n",
       "</style>\n",
       "<table border=\"1\" class=\"dataframe\">\n",
       "  <thead>\n",
       "    <tr style=\"text-align: right;\">\n",
       "      <th></th>\n",
       "      <th>Body</th>\n",
       "      <th>Sweetness</th>\n",
       "      <th>Smoky</th>\n",
       "      <th>Medicinal</th>\n",
       "      <th>Tobacco</th>\n",
       "      <th>Honey</th>\n",
       "      <th>Spicy</th>\n",
       "      <th>Winey</th>\n",
       "      <th>Nutty</th>\n",
       "      <th>Malty</th>\n",
       "      <th>Fruity</th>\n",
       "      <th>Floral</th>\n",
       "    </tr>\n",
       "  </thead>\n",
       "  <tbody>\n",
       "    <tr>\n",
       "      <th>Body</th>\n",
       "      <td>1.000000</td>\n",
       "      <td>-0.136518</td>\n",
       "      <td>0.524032</td>\n",
       "      <td>0.354050</td>\n",
       "      <td>0.168718</td>\n",
       "      <td>0.082031</td>\n",
       "      <td>0.188500</td>\n",
       "      <td>0.408576</td>\n",
       "      <td>0.126323</td>\n",
       "      <td>-0.116859</td>\n",
       "      <td>-0.013205</td>\n",
       "      <td>-0.461203</td>\n",
       "    </tr>\n",
       "    <tr>\n",
       "      <th>Sweetness</th>\n",
       "      <td>-0.136518</td>\n",
       "      <td>1.000000</td>\n",
       "      <td>-0.405897</td>\n",
       "      <td>-0.392017</td>\n",
       "      <td>-0.147871</td>\n",
       "      <td>0.132558</td>\n",
       "      <td>-0.054200</td>\n",
       "      <td>0.115727</td>\n",
       "      <td>-0.032493</td>\n",
       "      <td>-0.001516</td>\n",
       "      <td>0.019820</td>\n",
       "      <td>0.144987</td>\n",
       "    </tr>\n",
       "    <tr>\n",
       "      <th>Smoky</th>\n",
       "      <td>0.524032</td>\n",
       "      <td>-0.405897</td>\n",
       "      <td>1.000000</td>\n",
       "      <td>0.686071</td>\n",
       "      <td>0.365501</td>\n",
       "      <td>-0.195318</td>\n",
       "      <td>0.231745</td>\n",
       "      <td>-0.028190</td>\n",
       "      <td>-0.023132</td>\n",
       "      <td>-0.192875</td>\n",
       "      <td>-0.312970</td>\n",
       "      <td>-0.431663</td>\n",
       "    </tr>\n",
       "    <tr>\n",
       "      <th>Medicinal</th>\n",
       "      <td>0.354050</td>\n",
       "      <td>-0.392017</td>\n",
       "      <td>0.686071</td>\n",
       "      <td>1.000000</td>\n",
       "      <td>0.425106</td>\n",
       "      <td>-0.396629</td>\n",
       "      <td>0.044903</td>\n",
       "      <td>-0.202651</td>\n",
       "      <td>-0.113671</td>\n",
       "      <td>-0.258959</td>\n",
       "      <td>-0.330975</td>\n",
       "      <td>-0.511323</td>\n",
       "    </tr>\n",
       "    <tr>\n",
       "      <th>Tobacco</th>\n",
       "      <td>0.168718</td>\n",
       "      <td>-0.147871</td>\n",
       "      <td>0.365501</td>\n",
       "      <td>0.425106</td>\n",
       "      <td>1.000000</td>\n",
       "      <td>-0.275490</td>\n",
       "      <td>0.054068</td>\n",
       "      <td>0.009097</td>\n",
       "      <td>-0.117717</td>\n",
       "      <td>-0.059347</td>\n",
       "      <td>-0.235145</td>\n",
       "      <td>-0.212375</td>\n",
       "    </tr>\n",
       "    <tr>\n",
       "      <th>Honey</th>\n",
       "      <td>0.082031</td>\n",
       "      <td>0.132558</td>\n",
       "      <td>-0.195318</td>\n",
       "      <td>-0.396629</td>\n",
       "      <td>-0.275490</td>\n",
       "      <td>1.000000</td>\n",
       "      <td>0.139563</td>\n",
       "      <td>0.362021</td>\n",
       "      <td>0.188492</td>\n",
       "      <td>0.310184</td>\n",
       "      <td>0.108822</td>\n",
       "      <td>0.183029</td>\n",
       "    </tr>\n",
       "    <tr>\n",
       "      <th>Spicy</th>\n",
       "      <td>0.188500</td>\n",
       "      <td>-0.054200</td>\n",
       "      <td>0.231745</td>\n",
       "      <td>0.044903</td>\n",
       "      <td>0.054068</td>\n",
       "      <td>0.139563</td>\n",
       "      <td>1.000000</td>\n",
       "      <td>0.092704</td>\n",
       "      <td>-0.042856</td>\n",
       "      <td>0.036303</td>\n",
       "      <td>0.144714</td>\n",
       "      <td>0.034663</td>\n",
       "    </tr>\n",
       "    <tr>\n",
       "      <th>Winey</th>\n",
       "      <td>0.408576</td>\n",
       "      <td>0.115727</td>\n",
       "      <td>-0.028190</td>\n",
       "      <td>-0.202651</td>\n",
       "      <td>0.009097</td>\n",
       "      <td>0.362021</td>\n",
       "      <td>0.092704</td>\n",
       "      <td>1.000000</td>\n",
       "      <td>0.198467</td>\n",
       "      <td>0.112368</td>\n",
       "      <td>0.090694</td>\n",
       "      <td>-0.126932</td>\n",
       "    </tr>\n",
       "    <tr>\n",
       "      <th>Nutty</th>\n",
       "      <td>0.126323</td>\n",
       "      <td>-0.032493</td>\n",
       "      <td>-0.023132</td>\n",
       "      <td>-0.113671</td>\n",
       "      <td>-0.117717</td>\n",
       "      <td>0.188492</td>\n",
       "      <td>-0.042856</td>\n",
       "      <td>0.198467</td>\n",
       "      <td>1.000000</td>\n",
       "      <td>0.066157</td>\n",
       "      <td>0.071765</td>\n",
       "      <td>0.018302</td>\n",
       "    </tr>\n",
       "    <tr>\n",
       "      <th>Malty</th>\n",
       "      <td>-0.116859</td>\n",
       "      <td>-0.001516</td>\n",
       "      <td>-0.192875</td>\n",
       "      <td>-0.258959</td>\n",
       "      <td>-0.059347</td>\n",
       "      <td>0.310184</td>\n",
       "      <td>0.036303</td>\n",
       "      <td>0.112368</td>\n",
       "      <td>0.066157</td>\n",
       "      <td>1.000000</td>\n",
       "      <td>0.207288</td>\n",
       "      <td>0.106309</td>\n",
       "    </tr>\n",
       "    <tr>\n",
       "      <th>Fruity</th>\n",
       "      <td>-0.013205</td>\n",
       "      <td>0.019820</td>\n",
       "      <td>-0.312970</td>\n",
       "      <td>-0.330975</td>\n",
       "      <td>-0.235145</td>\n",
       "      <td>0.108822</td>\n",
       "      <td>0.144714</td>\n",
       "      <td>0.090694</td>\n",
       "      <td>0.071765</td>\n",
       "      <td>0.207288</td>\n",
       "      <td>1.000000</td>\n",
       "      <td>0.262336</td>\n",
       "    </tr>\n",
       "    <tr>\n",
       "      <th>Floral</th>\n",
       "      <td>-0.461203</td>\n",
       "      <td>0.144987</td>\n",
       "      <td>-0.431663</td>\n",
       "      <td>-0.511323</td>\n",
       "      <td>-0.212375</td>\n",
       "      <td>0.183029</td>\n",
       "      <td>0.034663</td>\n",
       "      <td>-0.126932</td>\n",
       "      <td>0.018302</td>\n",
       "      <td>0.106309</td>\n",
       "      <td>0.262336</td>\n",
       "      <td>1.000000</td>\n",
       "    </tr>\n",
       "  </tbody>\n",
       "</table>\n",
       "</div>"
      ],
      "text/plain": [
       "               Body  Sweetness     Smoky  Medicinal   Tobacco     Honey  \\\n",
       "Body       1.000000  -0.136518  0.524032   0.354050  0.168718  0.082031   \n",
       "Sweetness -0.136518   1.000000 -0.405897  -0.392017 -0.147871  0.132558   \n",
       "Smoky      0.524032  -0.405897  1.000000   0.686071  0.365501 -0.195318   \n",
       "Medicinal  0.354050  -0.392017  0.686071   1.000000  0.425106 -0.396629   \n",
       "Tobacco    0.168718  -0.147871  0.365501   0.425106  1.000000 -0.275490   \n",
       "Honey      0.082031   0.132558 -0.195318  -0.396629 -0.275490  1.000000   \n",
       "Spicy      0.188500  -0.054200  0.231745   0.044903  0.054068  0.139563   \n",
       "Winey      0.408576   0.115727 -0.028190  -0.202651  0.009097  0.362021   \n",
       "Nutty      0.126323  -0.032493 -0.023132  -0.113671 -0.117717  0.188492   \n",
       "Malty     -0.116859  -0.001516 -0.192875  -0.258959 -0.059347  0.310184   \n",
       "Fruity    -0.013205   0.019820 -0.312970  -0.330975 -0.235145  0.108822   \n",
       "Floral    -0.461203   0.144987 -0.431663  -0.511323 -0.212375  0.183029   \n",
       "\n",
       "              Spicy     Winey     Nutty     Malty    Fruity    Floral  \n",
       "Body       0.188500  0.408576  0.126323 -0.116859 -0.013205 -0.461203  \n",
       "Sweetness -0.054200  0.115727 -0.032493 -0.001516  0.019820  0.144987  \n",
       "Smoky      0.231745 -0.028190 -0.023132 -0.192875 -0.312970 -0.431663  \n",
       "Medicinal  0.044903 -0.202651 -0.113671 -0.258959 -0.330975 -0.511323  \n",
       "Tobacco    0.054068  0.009097 -0.117717 -0.059347 -0.235145 -0.212375  \n",
       "Honey      0.139563  0.362021  0.188492  0.310184  0.108822  0.183029  \n",
       "Spicy      1.000000  0.092704 -0.042856  0.036303  0.144714  0.034663  \n",
       "Winey      0.092704  1.000000  0.198467  0.112368  0.090694 -0.126932  \n",
       "Nutty     -0.042856  0.198467  1.000000  0.066157  0.071765  0.018302  \n",
       "Malty      0.036303  0.112368  0.066157  1.000000  0.207288  0.106309  \n",
       "Fruity     0.144714  0.090694  0.071765  0.207288  1.000000  0.262336  \n",
       "Floral     0.034663 -0.126932  0.018302  0.106309  0.262336  1.000000  "
      ]
     },
     "execution_count": 28,
     "metadata": {},
     "output_type": "execute_result"
    }
   ],
   "source": [
    "corr_flavors = pd.DataFrame.corr(flavors)\n",
    "corr_flavors"
   ]
  },
  {
   "cell_type": "code",
   "execution_count": 29,
   "metadata": {},
   "outputs": [
    {
     "data": {
      "image/png": "[encoded data removed]",
      "text/plain": [
       "<Figure size 1000x1000 with 2 Axes>"
      ]
     },
     "metadata": {},
     "output_type": "display_data"
    }
   ],
   "source": [
    "import matplotlib.pyplot as plt\n",
    "plt.figure(figsize=(10,10))\n",
    "plt.pcolor(corr_flavors) #correlation matrix by color\n",
    "plt.colorbar() # plots a colorbar on the side of a plot\n",
    "plt.savefig('corr_flavor.pdf')"
   ]
  },
  {
   "cell_type": "code",
   "execution_count": 30,
   "metadata": {},
   "outputs": [
    {
     "data": {
      "image/png": "[encoded data removed]",
      "text/plain": [
       "<Figure size 1000x1000 with 2 Axes>"
      ]
     },
     "metadata": {},
     "output_type": "display_data"
    }
   ],
   "source": [
    "corr_whisky = pd.DataFrame.corr(flavors.transpose())\n",
    "plt.figure(figsize=(10,10))\n",
    "plt.pcolor(corr_whisky) # correlation matrix by color\n",
    "plt.colorbar()\n",
    "plt.axis('tight') #Así se ajusta y no muestra datos vacios\n",
    "plt.savefig('corr_whisky.pdf')"
   ]
  },
  {
   "cell_type": "markdown",
   "metadata": {},
   "source": [
    "## Clustering Whiskies By Flavor Profile"
   ]
  },
  {
   "cell_type": "markdown",
   "metadata": {},
   "source": [
    "Para ello utilizaremos un método de clustering del módulo de machine learning scikit-learn de scikit-learn."
   ]
  },
  {
   "cell_type": "markdown",
   "metadata": {},
   "source": [
    "### Spectral co-clustering"
   ]
  },
  {
   "cell_type": "markdown",
   "metadata": {},
   "source": [
    "Una forma de pensar en el método de co-clustering espectral es considerar una lista de palabras y una lista de documentos.  \n",
    "\n",
    "\n",
    "<img src=\"clustering.jpg\">   \n",
    "\n",
    "\n",
    "Cada cluster se compone tanto de palabras como de documentos.  \n",
    "El problema tal y como lo acabo de presentar sigue siendo muy difícil de   abordar, pero resulta que podemos encontrar una solución aproximada al problema.\n",
    "\n",
    "\n",
    "El objetivo es encontrar clusters compuestos por palabras y documentos que suelen ir juntos.  \n",
    "\n",
    "También podemos pensar en documentos que traten de campos científicos específicos, como la biología o la física.  \n",
    "El término co-clustering se refiere a la idea de encontrar simultáneamente\n",
    "clústeres de palabras y clústeres de documentos.\n",
    "\n",
    "En primer lugar, podemos representar este grafo como una matriz de adyacencia, en la que las filas corresponden a palabras y las columnas a documentos.\n",
    "\n",
    "\n",
    "Podemos entonces tomar esta matriz, manipularla de ciertas maneras, y encontrar una solución aproximada al problema de agrupamiento planteado, en términos de valores (eigenvalues) y vectores propios (eigenvectors) de esta matriz modificada.\n",
    "\n",
    "\n",
    "No entraremos aquí en detalles, pero el término espectral se refiere al uso de valores propios y vectores propios de alguna matriz, y este es el significado del término espectral en el co-clustering espectral.\n",
    "\n",
    "\n",
    "Podemos pensar en la técnica de co-clustering como una agrupación simultánea las filas y columnas de la matriz, sea lo que sea lo que representan.\n",
    "En este caso, utilizaremos el enfoque\n",
    "para encontrar grupos de whiskys en nuestra matriz de correlación de sabores de whisky.\n",
    "\n",
    "\n",
    "Este método reordena de manera efectiva las filas y columnas de la matriz de correlación para que podamos ver con más claridad los bloques correspondientes a los grupos de whiskys más claramente.  \n",
    "Dado que los whiskys del conjunto de datos proceden de seis regiones diferentes, vamos a pedir al algoritmo de agrupación que encuentre seis bloques.\n",
    "\n"
   ]
  },
  {
   "cell_type": "markdown",
   "metadata": {},
   "source": [
    "Capturaremos esto como nuestro modelo.  \n",
    "Ya hemos creado el objeto modelo.  \n",
    "El segundo paso consiste en ajustar el modelo utilizando los datos de la matriz de correlaciones del whisky."
   ]
  },
  {
   "cell_type": "code",
   "execution_count": 31,
   "metadata": {},
   "outputs": [
    {
     "data": {
      "text/plain": [
       "array([[False, False, False, False, False,  True, False, False, False,\n",
       "        False, False,  True, False,  True, False, False, False, False,\n",
       "         True, False, False, False, False, False, False, False, False,\n",
       "        False, False, False, False, False,  True,  True,  True, False,\n",
       "        False, False,  True, False,  True, False, False, False, False,\n",
       "        False, False,  True,  True, False, False, False, False, False,\n",
       "         True, False, False, False, False,  True, False, False, False,\n",
       "        False, False, False, False, False, False,  True, False, False,\n",
       "         True, False, False, False, False, False, False, False,  True,\n",
       "        False,  True,  True, False,  True],\n",
       "       [False, False, False, False, False, False, False, False, False,\n",
       "        False, False, False, False, False, False, False, False, False,\n",
       "        False,  True, False, False, False, False, False, False, False,\n",
       "        False, False, False, False, False, False, False, False, False,\n",
       "        False, False, False,  True, False, False, False, False, False,\n",
       "        False, False, False, False, False, False, False, False, False,\n",
       "        False,  True, False, False, False, False, False, False, False,\n",
       "        False, False, False,  True, False,  True, False, False, False,\n",
       "        False, False, False, False, False, False, False, False, False,\n",
       "        False, False, False, False, False],\n",
       "       [ True,  True, False, False,  True, False, False,  True, False,\n",
       "        False,  True, False,  True, False, False, False, False,  True,\n",
       "        False, False, False, False, False, False, False, False,  True,\n",
       "         True, False,  True, False, False, False, False, False, False,\n",
       "         True, False, False, False, False, False,  True,  True,  True,\n",
       "        False, False, False, False, False, False,  True,  True,  True,\n",
       "        False, False,  True, False, False, False, False, False,  True,\n",
       "        False, False,  True, False,  True, False, False,  True, False,\n",
       "        False, False,  True, False, False, False, False, False, False,\n",
       "        False, False, False,  True, False],\n",
       "       [False, False, False, False, False, False,  True, False, False,\n",
       "         True, False, False, False, False, False, False,  True, False,\n",
       "        False, False,  True, False,  True, False,  True,  True, False,\n",
       "        False,  True, False,  True, False, False, False, False, False,\n",
       "        False,  True, False, False, False,  True, False, False, False,\n",
       "         True, False, False, False,  True,  True, False, False, False,\n",
       "        False, False, False, False, False, False,  True, False, False,\n",
       "        False,  True, False, False, False, False, False, False, False,\n",
       "        False, False, False, False,  True, False, False,  True, False,\n",
       "        False, False, False, False, False],\n",
       "       [False, False,  True, False, False, False, False, False,  True,\n",
       "        False, False, False, False, False,  True,  True, False, False,\n",
       "        False, False, False, False, False, False, False, False, False,\n",
       "        False, False, False, False,  True, False, False, False,  True,\n",
       "        False, False, False, False, False, False, False, False, False,\n",
       "        False,  True, False, False, False, False, False, False, False,\n",
       "        False, False, False, False, False, False, False,  True, False,\n",
       "         True, False, False, False, False, False, False, False,  True,\n",
       "        False,  True, False,  True, False, False,  True, False, False,\n",
       "         True, False, False, False, False],\n",
       "       [False, False, False,  True, False, False, False, False, False,\n",
       "        False, False, False, False, False, False, False, False, False,\n",
       "        False, False, False,  True, False,  True, False, False, False,\n",
       "        False, False, False, False, False, False, False, False, False,\n",
       "        False, False, False, False, False, False, False, False, False,\n",
       "        False, False, False, False, False, False, False, False, False,\n",
       "        False, False, False,  True,  True, False, False, False, False,\n",
       "        False, False, False, False, False, False, False, False, False,\n",
       "        False, False, False, False, False,  True, False, False, False,\n",
       "        False, False, False, False, False]])"
      ]
     },
     "execution_count": 31,
     "metadata": {},
     "output_type": "execute_result"
    }
   ],
   "source": [
    "from sklearn.cluster import SpectralCoclustering\n",
    "model=SpectralCoclustering(n_clusters=6, random_state=0)\n",
    "model.fit(corr_whisky)\n",
    "model.rows_"
   ]
  },
  {
   "cell_type": "markdown",
   "metadata": {},
   "source": [
    "Veamos ahora los clusters que acabamos de descubrir.\n",
    "El resultado es una matriz con las siguientes dimensiones número de filas de clusters por número de filas en la matriz de datos, la matriz de correlación, en este caso.\n",
    "Las entradas de la matriz son verdaderas o falsas.  \n",
    "Cada fila de esta matriz identifica un cluster, que aquí va de 0 a 5, y cada columna identifica una fila en la matriz de correlación, que aquí va de 0 a 85.\n",
    "\n",
    "\n",
    "Si sumamos todas las columnas de esta matriz, podemos averiguar cuántas observaciones pertenecen a cada cluster."
   ]
  },
  {
   "cell_type": "code",
   "execution_count": 32,
   "metadata": {},
   "outputs": [
    {
     "data": {
      "text/plain": [
       "array([19,  5, 24, 18, 14,  6])"
      ]
     },
     "execution_count": 32,
     "metadata": {},
     "output_type": "execute_result"
    }
   ],
   "source": [
    "np.sum(model.rows_,axis=1)"
   ]
  },
  {
   "cell_type": "markdown",
   "metadata": {},
   "source": [
    "Si en su lugar sumamos todas las filas, podemos averiguar cuántos clusters pertenecen a cada observación.\n",
    "Como cada observación pertenece a uno solo de los seis clusters, la respuesta debería ser 1 para todas ellas."
   ]
  },
  {
   "cell_type": "code",
   "execution_count": 33,
   "metadata": {},
   "outputs": [
    {
     "data": {
      "text/plain": [
       "array([1, 1, 1, 1, 1, 1, 1, 1, 1, 1, 1, 1, 1, 1, 1, 1, 1, 1, 1, 1, 1, 1,\n",
       "       1, 1, 1, 1, 1, 1, 1, 1, 1, 1, 1, 1, 1, 1, 1, 1, 1, 1, 1, 1, 1, 1,\n",
       "       1, 1, 1, 1, 1, 1, 1, 1, 1, 1, 1, 1, 1, 1, 1, 1, 1, 1, 1, 1, 1, 1,\n",
       "       1, 1, 1, 1, 1, 1, 1, 1, 1, 1, 1, 1, 1, 1, 1, 1, 1, 1, 1, 1])"
      ]
     },
     "execution_count": 33,
     "metadata": {},
     "output_type": "execute_result"
    }
   ],
   "source": [
    "np.sum(model.rows_,axis=0)"
   ]
  },
  {
   "cell_type": "code",
   "execution_count": 36,
   "metadata": {},
   "outputs": [
    {
     "data": {
      "text/plain": [
       "array([2, 2, 4, 5, 2, 0, 3, 2, 4, 3, 2, 0, 2, 0, 4, 4, 3, 2, 0, 1, 3, 5,\n",
       "       3, 5, 3, 3, 2, 2, 3, 2, 3, 4, 0, 0, 0, 4, 2, 3, 0, 1, 0, 3, 2, 2,\n",
       "       2, 3, 4, 0, 0, 3, 3, 2, 2, 2, 0, 1, 2, 5, 5, 0, 3, 4, 2, 4, 3, 2,\n",
       "       1, 2, 1, 0, 2, 4, 0, 4, 2, 4, 3, 5, 4, 3, 0, 4, 0, 0, 2, 0])"
      ]
     },
     "execution_count": 36,
     "metadata": {},
     "output_type": "execute_result"
    }
   ],
   "source": [
    "model.row_labels_"
   ]
  },
  {
   "cell_type": "markdown",
   "metadata": {},
   "source": [
    "La observación numero 0 pertenece al cluster numero 2, la observación numero 1 también al cluster 2... Porque especificamos 6 clusters.\n"
   ]
  },
  {
   "cell_type": "markdown",
   "metadata": {},
   "source": [
    "### Definición de Spectral Co-clustering"
   ]
  },
  {
   "cell_type": "markdown",
   "metadata": {},
   "source": [
    "La coagrupación es un enfoque de agrupamiento que busca encontrar patrones de agrupación simultánea en filas y columnas de una matriz de datos. El algoritmo Spectral Co-Clustering (espectral de coagrupación) es una técnica específica de coagrupación que utiliza técnicas espectrales para **identificar patrones de agrupación en datos**.\n",
    "\n",
    "\n",
    "La idea básica es convertir la matriz de datos en un grafo y realizar un análisis espectral en ese grafo para encontrar grupos coherentes tanto en filas como en columnas. Esto puede ser útil en situaciones **donde se espera que los grupos en las filas y columnas estén interrelacionados**.\n",
    "\n",
    "\n",
    "Aquí hay un ejemplo muy simple para ilustrar el concepto:\n",
    "\n",
    "\n",
    "Supongamos que tienes una matriz que representa la relación entre estudiantes y las asignaturas que han cursado. Las filas representan estudiantes, las columnas representan asignaturas y los valores de la matriz indican la calificación de cada estudiante en cada asignatura.\n",
    "\n",
    "\n",
    "El algoritmo Spectral Co-Clustering intentaría identificar patrones en los que ciertos grupos de estudiantes tienden a tener un rendimiento similar en ciertos conjuntos de asignaturas, y viceversa.\n",
    "\n",
    "\n",
    "En resumen, Spectral Co-Clustering es útil cuando buscas patrones de agrupación simultáneos en las filas y columnas de tus datos, y utiliza técnicas espectrales para realizar este análisis."
   ]
  },
  {
   "cell_type": "markdown",
   "metadata": {},
   "source": [
    "## Comparing Correlation Matrices"
   ]
  },
  {
   "cell_type": "markdown",
   "metadata": {},
   "source": [
    "Dibujemos los clusters como grupos que acabamos de descubrir en nuestro Whisky DataFrame.  \n",
    "También vamos a renombrar los índices para que coincidan con la ordenación.  \n",
    "Podemos realizar esta operación en tres líneas de código.  "
   ]
  },
  {
   "cell_type": "code",
   "execution_count": 38,
   "metadata": {},
   "outputs": [],
   "source": [
    "# Extraemos las etiquetas de los grupos del modelo y las añadimos a la tabla whisky\n",
    "whisky['group'] = pd.Series(model.row_labels_, index=whisky.index)\n",
    "# Reordenamos las filas en orden creciente por etiquetas de grupo\n",
    "whisky= whisky.iloc[np.argsort(model.row_labels_)]\n",
    "# reseteamos el índice de nuestro DataFrame\n",
    "whisky = whisky.reset_index(drop=True)\n"
   ]
  },
  {
   "cell_type": "markdown",
   "metadata": {},
   "source": [
    "Así vemos que cada observación está ligada a un grupo, se eligió 6 clusters por las regiones aquí se puede comparar si esos clusters realmente identifican las regiones o no."
   ]
  },
  {
   "cell_type": "code",
   "execution_count": 43,
   "metadata": {},
   "outputs": [
    {
     "data": {
      "text/html": [
       "<div>\n",
       "<style scoped>\n",
       "    .dataframe tbody tr th:only-of-type {\n",
       "        vertical-align: middle;\n",
       "    }\n",
       "\n",
       "    .dataframe tbody tr th {\n",
       "        vertical-align: top;\n",
       "    }\n",
       "\n",
       "    .dataframe thead th {\n",
       "        text-align: right;\n",
       "    }\n",
       "</style>\n",
       "<table border=\"1\" class=\"dataframe\">\n",
       "  <thead>\n",
       "    <tr style=\"text-align: right;\">\n",
       "      <th></th>\n",
       "      <th>RowID</th>\n",
       "      <th>Distillery</th>\n",
       "      <th>Body</th>\n",
       "      <th>Sweetness</th>\n",
       "      <th>Smoky</th>\n",
       "      <th>Medicinal</th>\n",
       "      <th>Tobacco</th>\n",
       "      <th>Honey</th>\n",
       "      <th>Spicy</th>\n",
       "      <th>Winey</th>\n",
       "      <th>Nutty</th>\n",
       "      <th>Malty</th>\n",
       "      <th>Fruity</th>\n",
       "      <th>Floral</th>\n",
       "      <th>Postcode</th>\n",
       "      <th>Latitude</th>\n",
       "      <th>Longitude</th>\n",
       "      <th>Region</th>\n",
       "      <th>group</th>\n",
       "    </tr>\n",
       "  </thead>\n",
       "  <tbody>\n",
       "    <tr>\n",
       "      <th>0</th>\n",
       "      <td>86</td>\n",
       "      <td>Tullibardine</td>\n",
       "      <td>2</td>\n",
       "      <td>3</td>\n",
       "      <td>0</td>\n",
       "      <td>0</td>\n",
       "      <td>1</td>\n",
       "      <td>0</td>\n",
       "      <td>2</td>\n",
       "      <td>1</td>\n",
       "      <td>1</td>\n",
       "      <td>2</td>\n",
       "      <td>2</td>\n",
       "      <td>1</td>\n",
       "      <td>PH4 1QG</td>\n",
       "      <td>289690</td>\n",
       "      <td>708850</td>\n",
       "      <td>Highlands</td>\n",
       "      <td>0</td>\n",
       "    </tr>\n",
       "    <tr>\n",
       "      <th>1</th>\n",
       "      <td>34</td>\n",
       "      <td>GlenElgin</td>\n",
       "      <td>2</td>\n",
       "      <td>3</td>\n",
       "      <td>1</td>\n",
       "      <td>0</td>\n",
       "      <td>0</td>\n",
       "      <td>2</td>\n",
       "      <td>1</td>\n",
       "      <td>1</td>\n",
       "      <td>1</td>\n",
       "      <td>1</td>\n",
       "      <td>2</td>\n",
       "      <td>3</td>\n",
       "      <td>IV30 3SL</td>\n",
       "      <td>322640</td>\n",
       "      <td>861040</td>\n",
       "      <td>Speyside</td>\n",
       "      <td>0</td>\n",
       "    </tr>\n",
       "    <tr>\n",
       "      <th>2</th>\n",
       "      <td>33</td>\n",
       "      <td>GlenDeveronMacduff</td>\n",
       "      <td>2</td>\n",
       "      <td>3</td>\n",
       "      <td>1</td>\n",
       "      <td>1</td>\n",
       "      <td>1</td>\n",
       "      <td>1</td>\n",
       "      <td>1</td>\n",
       "      <td>2</td>\n",
       "      <td>0</td>\n",
       "      <td>2</td>\n",
       "      <td>0</td>\n",
       "      <td>1</td>\n",
       "      <td>AB4 3JT</td>\n",
       "      <td>372120</td>\n",
       "      <td>860400</td>\n",
       "      <td>Speyside</td>\n",
       "      <td>0</td>\n",
       "    </tr>\n",
       "    <tr>\n",
       "      <th>3</th>\n",
       "      <td>41</td>\n",
       "      <td>GlenSpey</td>\n",
       "      <td>1</td>\n",
       "      <td>3</td>\n",
       "      <td>1</td>\n",
       "      <td>0</td>\n",
       "      <td>0</td>\n",
       "      <td>0</td>\n",
       "      <td>1</td>\n",
       "      <td>1</td>\n",
       "      <td>1</td>\n",
       "      <td>2</td>\n",
       "      <td>0</td>\n",
       "      <td>2</td>\n",
       "      <td>AB38 7AU</td>\n",
       "      <td>327760</td>\n",
       "      <td>849140</td>\n",
       "      <td>Speyside</td>\n",
       "      <td>0</td>\n",
       "    </tr>\n",
       "    <tr>\n",
       "      <th>4</th>\n",
       "      <td>48</td>\n",
       "      <td>Glenkinchie</td>\n",
       "      <td>1</td>\n",
       "      <td>2</td>\n",
       "      <td>1</td>\n",
       "      <td>0</td>\n",
       "      <td>0</td>\n",
       "      <td>1</td>\n",
       "      <td>2</td>\n",
       "      <td>0</td>\n",
       "      <td>0</td>\n",
       "      <td>2</td>\n",
       "      <td>2</td>\n",
       "      <td>2</td>\n",
       "      <td>EH34 5ET</td>\n",
       "      <td>344380</td>\n",
       "      <td>666690</td>\n",
       "      <td>Lowlands</td>\n",
       "      <td>0</td>\n",
       "    </tr>\n",
       "    <tr>\n",
       "      <th>...</th>\n",
       "      <td>...</td>\n",
       "      <td>...</td>\n",
       "      <td>...</td>\n",
       "      <td>...</td>\n",
       "      <td>...</td>\n",
       "      <td>...</td>\n",
       "      <td>...</td>\n",
       "      <td>...</td>\n",
       "      <td>...</td>\n",
       "      <td>...</td>\n",
       "      <td>...</td>\n",
       "      <td>...</td>\n",
       "      <td>...</td>\n",
       "      <td>...</td>\n",
       "      <td>...</td>\n",
       "      <td>...</td>\n",
       "      <td>...</td>\n",
       "      <td>...</td>\n",
       "      <td>...</td>\n",
       "    </tr>\n",
       "    <tr>\n",
       "      <th>81</th>\n",
       "      <td>4</td>\n",
       "      <td>Ardbeg</td>\n",
       "      <td>4</td>\n",
       "      <td>1</td>\n",
       "      <td>4</td>\n",
       "      <td>4</td>\n",
       "      <td>0</td>\n",
       "      <td>0</td>\n",
       "      <td>2</td>\n",
       "      <td>0</td>\n",
       "      <td>1</td>\n",
       "      <td>2</td>\n",
       "      <td>1</td>\n",
       "      <td>0</td>\n",
       "      <td>\\tPA42 7EB</td>\n",
       "      <td>141560</td>\n",
       "      <td>646220</td>\n",
       "      <td>Islay</td>\n",
       "      <td>5</td>\n",
       "    </tr>\n",
       "    <tr>\n",
       "      <th>82</th>\n",
       "      <td>24</td>\n",
       "      <td>Clynelish</td>\n",
       "      <td>3</td>\n",
       "      <td>2</td>\n",
       "      <td>3</td>\n",
       "      <td>3</td>\n",
       "      <td>1</td>\n",
       "      <td>0</td>\n",
       "      <td>2</td>\n",
       "      <td>0</td>\n",
       "      <td>1</td>\n",
       "      <td>1</td>\n",
       "      <td>2</td>\n",
       "      <td>0</td>\n",
       "      <td>\\tKW9 6LB</td>\n",
       "      <td>290250</td>\n",
       "      <td>904230</td>\n",
       "      <td>Highlands</td>\n",
       "      <td>5</td>\n",
       "    </tr>\n",
       "    <tr>\n",
       "      <th>83</th>\n",
       "      <td>59</td>\n",
       "      <td>Laphroig</td>\n",
       "      <td>4</td>\n",
       "      <td>2</td>\n",
       "      <td>4</td>\n",
       "      <td>4</td>\n",
       "      <td>1</td>\n",
       "      <td>0</td>\n",
       "      <td>0</td>\n",
       "      <td>1</td>\n",
       "      <td>1</td>\n",
       "      <td>1</td>\n",
       "      <td>0</td>\n",
       "      <td>0</td>\n",
       "      <td>PA42 7DU</td>\n",
       "      <td>138680</td>\n",
       "      <td>645160</td>\n",
       "      <td>Islay</td>\n",
       "      <td>5</td>\n",
       "    </tr>\n",
       "    <tr>\n",
       "      <th>84</th>\n",
       "      <td>58</td>\n",
       "      <td>Lagavulin</td>\n",
       "      <td>4</td>\n",
       "      <td>1</td>\n",
       "      <td>4</td>\n",
       "      <td>4</td>\n",
       "      <td>1</td>\n",
       "      <td>0</td>\n",
       "      <td>1</td>\n",
       "      <td>2</td>\n",
       "      <td>1</td>\n",
       "      <td>1</td>\n",
       "      <td>1</td>\n",
       "      <td>0</td>\n",
       "      <td>PA42 7DZ</td>\n",
       "      <td>140430</td>\n",
       "      <td>645730</td>\n",
       "      <td>Islay</td>\n",
       "      <td>5</td>\n",
       "    </tr>\n",
       "    <tr>\n",
       "      <th>85</th>\n",
       "      <td>22</td>\n",
       "      <td>Caol Ila</td>\n",
       "      <td>3</td>\n",
       "      <td>1</td>\n",
       "      <td>4</td>\n",
       "      <td>2</td>\n",
       "      <td>1</td>\n",
       "      <td>0</td>\n",
       "      <td>2</td>\n",
       "      <td>0</td>\n",
       "      <td>2</td>\n",
       "      <td>1</td>\n",
       "      <td>1</td>\n",
       "      <td>1</td>\n",
       "      <td>\\tPA46 7RL</td>\n",
       "      <td>142920</td>\n",
       "      <td>670040</td>\n",
       "      <td>Islay</td>\n",
       "      <td>5</td>\n",
       "    </tr>\n",
       "  </tbody>\n",
       "</table>\n",
       "<p>86 rows × 19 columns</p>\n",
       "</div>"
      ],
      "text/plain": [
       "    RowID          Distillery  Body  Sweetness  Smoky  Medicinal  Tobacco  \\\n",
       "0      86        Tullibardine     2          3      0          0        1   \n",
       "1      34           GlenElgin     2          3      1          0        0   \n",
       "2      33  GlenDeveronMacduff     2          3      1          1        1   \n",
       "3      41            GlenSpey     1          3      1          0        0   \n",
       "4      48         Glenkinchie     1          2      1          0        0   \n",
       "..    ...                 ...   ...        ...    ...        ...      ...   \n",
       "81      4              Ardbeg     4          1      4          4        0   \n",
       "82     24           Clynelish     3          2      3          3        1   \n",
       "83     59            Laphroig     4          2      4          4        1   \n",
       "84     58           Lagavulin     4          1      4          4        1   \n",
       "85     22            Caol Ila     3          1      4          2        1   \n",
       "\n",
       "    Honey  Spicy  Winey  Nutty  Malty  Fruity  Floral     Postcode   Latitude  \\\n",
       "0       0      2      1      1      2       2       1      PH4 1QG     289690   \n",
       "1       2      1      1      1      1       2       3     IV30 3SL     322640   \n",
       "2       1      1      2      0      2       0       1      AB4 3JT     372120   \n",
       "3       0      1      1      1      2       0       2     AB38 7AU     327760   \n",
       "4       1      2      0      0      2       2       2     EH34 5ET     344380   \n",
       "..    ...    ...    ...    ...    ...     ...     ...          ...        ...   \n",
       "81      0      2      0      1      2       1       0   \\tPA42 7EB     141560   \n",
       "82      0      2      0      1      1       2       0    \\tKW9 6LB     290250   \n",
       "83      0      0      1      1      1       0       0     PA42 7DU     138680   \n",
       "84      0      1      2      1      1       1       0     PA42 7DZ     140430   \n",
       "85      0      2      0      2      1       1       1   \\tPA46 7RL     142920   \n",
       "\n",
       "     Longitude     Region  group  \n",
       "0       708850  Highlands      0  \n",
       "1       861040   Speyside      0  \n",
       "2       860400   Speyside      0  \n",
       "3       849140   Speyside      0  \n",
       "4       666690   Lowlands      0  \n",
       "..         ...        ...    ...  \n",
       "81      646220      Islay      5  \n",
       "82      904230  Highlands      5  \n",
       "83      645160      Islay      5  \n",
       "84      645730      Islay      5  \n",
       "85      670040      Islay      5  \n",
       "\n",
       "[86 rows x 19 columns]"
      ]
     },
     "execution_count": 43,
     "metadata": {},
     "output_type": "execute_result"
    }
   ],
   "source": [
    "whisky"
   ]
  },
  {
   "cell_type": "code",
   "execution_count": 39,
   "metadata": {},
   "outputs": [
    {
     "data": {
      "image/png": "[encoded data removed]",
      "text/plain": [
       "<Figure size 1400x700 with 2 Axes>"
      ]
     },
     "metadata": {},
     "output_type": "display_data"
    }
   ],
   "source": [
    "correlations = whisky.iloc[:, 2:14].transpose().corr() \n",
    "correlations = np.array(correlations) # now matrix reshuffled\n",
    "plt.figure(figsize=(14,7))\n",
    "plt.subplot(121)\n",
    "plt.pcolor(corr_whisky)\n",
    "plt.title('Original')\n",
    "plt.axis('tight')\n",
    "\n",
    "plt.subplot(122)\n",
    "plt.pcolor(correlations)\n",
    "plt.title('Rearranged')\n",
    "plt.axis('tight')\n",
    "plt.savefig('correlations.pdf')\n",
    "\n"
   ]
  },
  {
   "cell_type": "markdown",
   "metadata": {},
   "source": [
    "La transposición (transpose()) se utiliza para intercambiar las filas y columnas de la matriz de correlación  \n",
    "Esto facilita la visualización de cualquier patrón emergente en las relaciones entre las variables después de la agrupación."
   ]
  },
  {
   "cell_type": "markdown",
   "metadata": {},
   "source": [
    "Vemos que a lo largo de la recta en la segunda imagen se ven unos bloques, eso es porque ha reordenado las correlaciones y los ha agrupado en clusters."
   ]
  },
  {
   "cell_type": "markdown",
   "metadata": {},
   "source": [
    "Con seaborn se haria asi:"
   ]
  },
  {
   "cell_type": "code",
   "execution_count": 42,
   "metadata": {},
   "outputs": [
    {
     "data": {
      "text/plain": [
       "<seaborn.matrix.ClusterGrid at 0x1f265598d90>"
      ]
     },
     "execution_count": 42,
     "metadata": {},
     "output_type": "execute_result"
    },
    {
     "data": {
      "image/png": "[encoded data removed]",
      "text/plain": [
       "<Figure size 1000x1000 with 4 Axes>"
      ]
     },
     "metadata": {},
     "output_type": "display_data"
    }
   ],
   "source": [
    "import seaborn as sns\n",
    "sns.clustermap(corr_whisky)"
   ]
  },
  {
   "cell_type": "code",
   "execution_count": 44,
   "metadata": {},
   "outputs": [
    {
     "data": {
      "text/plain": [
       "1"
      ]
     },
     "execution_count": 44,
     "metadata": {},
     "output_type": "execute_result"
    }
   ],
   "source": [
    "import pandas as pd\n",
    "data = pd.Series([1,2,3,4])\n",
    "data = data.iloc[[3,0,1,2]]\n",
    "data[0]\n"
   ]
  },
  {
   "cell_type": "markdown",
   "metadata": {},
   "source": [
    "data = pd.Series([1,2,3,4])  \n",
    "data = data.iloc[[3,0,1,2]]  \n",
    "que hace data[0]?  \n",
    "1: data.iloc altera el orden de aparición, pero deja los índices igual. "
   ]
  },
  {
   "cell_type": "code",
   "execution_count": 45,
   "metadata": {},
   "outputs": [
    {
     "data": {
      "text/plain": [
       "4"
      ]
     },
     "execution_count": 45,
     "metadata": {},
     "output_type": "execute_result"
    }
   ],
   "source": [
    "import pandas as pd\n",
    "data = pd.Series([1,2,3,4])\n",
    "data = data.iloc[[3,0,1,2]]\n",
    "data = data.reset_index(drop=True)\n",
    "data[0]"
   ]
  },
  {
   "cell_type": "markdown",
   "metadata": {},
   "source": [
    "El índice 0 de los datos se ha reordenado al índice 3 del original, que es 4."
   ]
  }
 ],
 "metadata": {
  "kernelspec": {
   "display_name": "Python 3",
   "language": "python",
   "name": "python3"
  },
  "language_info": {
   "codemirror_mode": {
    "name": "ipython",
    "version": 3
   },
   "file_extension": ".py",
   "mimetype": "text/x-python",
   "name": "python",
   "nbconvert_exporter": "python",
   "pygments_lexer": "ipython3",
   "version": "3.10.10"
  }
 },
 "nbformat": 4,
 "nbformat_minor": 2
}
